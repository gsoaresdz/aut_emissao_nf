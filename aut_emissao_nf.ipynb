{
 "cells": [
  {
   "cell_type": "markdown",
   "id": "f8b998e9",
   "metadata": {},
   "source": [
    "# Automação - Sistema de emissão de nota fiscal eletrônica NFe"
   ]
  },
  {
   "cell_type": "code",
   "execution_count": 1,
   "id": "8f3d5a34",
   "metadata": {},
   "outputs": [
    {
     "name": "stdout",
     "output_type": "stream",
     "text": [
      "\n"
     ]
    },
    {
     "name": "stderr",
     "output_type": "stream",
     "text": [
      "[WDM] - ====== WebDriver manager ======\n"
     ]
    },
    {
     "name": "stdout",
     "output_type": "stream",
     "text": [
      "2022-08-01 17:45:52,926 INFO ====== WebDriver manager ======\n"
     ]
    },
    {
     "name": "stderr",
     "output_type": "stream",
     "text": [
      "[WDM] - Current google-chrome version is 103.0.5060\n"
     ]
    },
    {
     "name": "stdout",
     "output_type": "stream",
     "text": [
      "2022-08-01 17:45:52,932 INFO Current google-chrome version is 103.0.5060\n"
     ]
    },
    {
     "name": "stderr",
     "output_type": "stream",
     "text": [
      "[WDM] - Get LATEST chromedriver version for 103.0.5060 google-chrome\n"
     ]
    },
    {
     "name": "stdout",
     "output_type": "stream",
     "text": [
      "2022-08-01 17:45:52,933 INFO Get LATEST chromedriver version for 103.0.5060 google-chrome\n"
     ]
    },
    {
     "name": "stderr",
     "output_type": "stream",
     "text": [
      "[WDM] - Driver [C:\\Users\\b2101015\\.wdm\\drivers\\chromedriver\\win32\\103.0.5060.134\\chromedriver.exe] found in cache\n"
     ]
    },
    {
     "name": "stdout",
     "output_type": "stream",
     "text": [
      "2022-08-01 17:45:53,235 INFO Driver [C:\\Users\\b2101015\\.wdm\\drivers\\chromedriver\\win32\\103.0.5060.134\\chromedriver.exe] found in cache\n"
     ]
    }
   ],
   "source": [
    "from selenium import webdriver\n",
    "from selenium.webdriver.chrome.service import Service\n",
    "from webdriver_manager.chrome import ChromeDriverManager\n",
    "from selenium.webdriver.common.by import By\n",
    "\n",
    "servico = Service(ChromeDriverManager().install())\n",
    "navegador = webdriver.Chrome()"
   ]
  },
  {
   "cell_type": "markdown",
   "id": "15c8ee75",
   "metadata": {},
   "source": [
    "###### Acessando página de Login"
   ]
  },
  {
   "cell_type": "code",
   "execution_count": 2,
   "id": "f4492586",
   "metadata": {},
   "outputs": [],
   "source": [
    "import os\n",
    "\n",
    "caminho = os.getcwd()\n",
    "arquivo = caminho + r\"\\login.html\"\n",
    "navegador.get(arquivo)"
   ]
  },
  {
   "cell_type": "markdown",
   "id": "541d6710",
   "metadata": {},
   "source": [
    "###### Preenchendo Login"
   ]
  },
  {
   "cell_type": "code",
   "execution_count": 3,
   "id": "32f1713a",
   "metadata": {},
   "outputs": [],
   "source": [
    "#Login\n",
    "navegador.find_element(By.XPATH, '/html/body/div/form/input[1]').send_keys('gabriel.souza@bullla.com.br')"
   ]
  },
  {
   "cell_type": "code",
   "execution_count": 4,
   "id": "d7db64b9",
   "metadata": {},
   "outputs": [],
   "source": [
    "#Senha\n",
    "navegador.find_element(By.XPATH, '/html/body/div/form/input[2]').send_keys('Bullla@2022')"
   ]
  },
  {
   "cell_type": "code",
   "execution_count": 5,
   "id": "2a83bf9b",
   "metadata": {},
   "outputs": [],
   "source": [
    "#Botao de login \n",
    "navegador.find_element(By.XPATH, '/html/body/div/form/button').click()"
   ]
  },
  {
   "cell_type": "markdown",
   "id": "57395e1d",
   "metadata": {},
   "source": [
    "###### Descricao de Destinatário da mercadoria e/ou tomador do serviço"
   ]
  },
  {
   "cell_type": "code",
   "execution_count": 6,
   "id": "d4c5bce9",
   "metadata": {},
   "outputs": [],
   "source": [
    "#Razao Social\n",
    "navegador.find_element(By.ID, 'nome').send_keys('Bullla S.A.')"
   ]
  },
  {
   "cell_type": "code",
   "execution_count": 7,
   "id": "3747a06b",
   "metadata": {},
   "outputs": [],
   "source": [
    "#Endereço\n",
    "navegador.find_element(By.NAME, 'endereco').send_keys('Av. Francisco Matarazzo, 1350')"
   ]
  },
  {
   "cell_type": "code",
   "execution_count": 8,
   "id": "889740dd",
   "metadata": {},
   "outputs": [],
   "source": [
    "#Bairro\n",
    "navegador.find_element(By.NAME, 'bairro').send_keys('Água Branca')"
   ]
  },
  {
   "cell_type": "code",
   "execution_count": 9,
   "id": "8db165a4",
   "metadata": {},
   "outputs": [],
   "source": [
    "#Município\n",
    "navegador.find_element(By.NAME, 'municipio').send_keys('São Paulo')"
   ]
  },
  {
   "cell_type": "code",
   "execution_count": 10,
   "id": "37faba42",
   "metadata": {},
   "outputs": [],
   "source": [
    "#CEP\n",
    "navegador.find_element(By.NAME, 'cep').send_keys('05001-100')"
   ]
  },
  {
   "cell_type": "code",
   "execution_count": 11,
   "id": "fa4f6039",
   "metadata": {},
   "outputs": [],
   "source": [
    "#UF\n",
    "navegador.find_element(By.NAME, 'uf').send_keys('SP')"
   ]
  },
  {
   "cell_type": "code",
   "execution_count": 12,
   "id": "e422973b",
   "metadata": {},
   "outputs": [],
   "source": [
    "#CNPJ/CPF\n",
    "navegador.find_element(By.NAME, 'cnpj').send_keys('08.422.119/0001-64')"
   ]
  },
  {
   "cell_type": "code",
   "execution_count": 13,
   "id": "e1b5479a",
   "metadata": {},
   "outputs": [],
   "source": [
    "#Inscrição estadual\n",
    "navegador.find_element(By.NAME, 'inscricao').send_keys('13738628')"
   ]
  },
  {
   "cell_type": "markdown",
   "id": "c5e27cf8",
   "metadata": {},
   "source": [
    "###### Descrição das mercadorias/serviço prestado"
   ]
  },
  {
   "cell_type": "code",
   "execution_count": 14,
   "id": "a59109ea",
   "metadata": {},
   "outputs": [],
   "source": [
    "#Descrição do produto/serviço \n",
    "texto = 'Valor referente aos produtos oferecidos para os clientes.'\n",
    "navegador.find_element(By.NAME, 'descricao').send_keys(texto)"
   ]
  },
  {
   "cell_type": "code",
   "execution_count": 15,
   "id": "064f1aaf",
   "metadata": {},
   "outputs": [],
   "source": [
    "#Quantidade\n",
    "navegador.find_element(By.NAME, 'quantidade').send_keys('10')"
   ]
  },
  {
   "cell_type": "code",
   "execution_count": 16,
   "id": "207fdc2c",
   "metadata": {},
   "outputs": [],
   "source": [
    "#Valor unitário\n",
    "navegador.find_element(By.NAME, 'valor_unitario').send_keys(150)"
   ]
  },
  {
   "cell_type": "code",
   "execution_count": 17,
   "id": "ab9e038f",
   "metadata": {},
   "outputs": [],
   "source": [
    "#Valor total\n",
    "navegador.find_element(By.NAME, 'total').send_keys(1500)"
   ]
  },
  {
   "cell_type": "markdown",
   "id": "0cca4bfa",
   "metadata": {},
   "source": [
    "###### Emitir nota"
   ]
  },
  {
   "cell_type": "code",
   "execution_count": 18,
   "id": "f3ec54a3",
   "metadata": {},
   "outputs": [],
   "source": [
    "navegador.find_element(By.CLASS_NAME, 'registerbtn').click()"
   ]
  }
 ],
 "metadata": {
  "kernelspec": {
   "display_name": "Python 3 (ipykernel)",
   "language": "python",
   "name": "python3"
  },
  "language_info": {
   "codemirror_mode": {
    "name": "ipython",
    "version": 3
   },
   "file_extension": ".py",
   "mimetype": "text/x-python",
   "name": "python",
   "nbconvert_exporter": "python",
   "pygments_lexer": "ipython3",
   "version": "3.9.7"
  }
 },
 "nbformat": 4,
 "nbformat_minor": 5
}
