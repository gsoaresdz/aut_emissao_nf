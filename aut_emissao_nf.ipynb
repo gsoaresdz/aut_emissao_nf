{
 "cells": [
  {
   "cell_type": "markdown",
   "id": "e14c2ed0",
   "metadata": {},
   "source": [
    "# Automação - Sistema de emissão de nota fiscal eletrônica NFe"
   ]
  },
  {
   "cell_type": "markdown",
   "id": "2784731f",
   "metadata": {},
   "source": [
    "from selenium import webdriver\n",
    "from selenium.webdriver.chrome.service import Service\n",
    "from webdriver_manager.chrome import ChromeDriverManager\n",
    "from selenium.webdriver.common.by import By\n",
    "\n",
    "servico = Service(ChromeDriverManager().install())\n",
    "navegador = webdriver.Chrome()"
   ]
  },
  {
   "cell_type": "markdown",
   "id": "086c3437",
   "metadata": {},
   "source": [
    "###### Acessando página de Login"
   ]
  },
  {
   "cell_type": "code",
   "execution_count": 2,
   "id": "3746da61",
   "metadata": {},
   "outputs": [],
   "source": [
    "import os\n",
    "\n",
    "caminho = os.getcwd()\n",
    "arquivo = caminho + r\"\\login.html\"\n",
    "navegador.get(arquivo)"
   ]
  },
  {
   "cell_type": "code",
   "execution_count": null,
   "id": "50cd0b28",
   "metadata": {},
   "outputs": [],
   "source": [
    "#"
   ]
  },
  {
   "cell_type": "code",
   "execution_count": 3,
   "id": "f4992383",
   "metadata": {},
   "outputs": [],
   "source": [
    "navegador.find_element(By.XPATH, '/html/body/div/form/input[1]').send_keys('gabriel.souza@bullla.com.br')"
   ]
  },
  {
   "cell_type": "code",
   "execution_count": 4,
   "id": "9410e981",
   "metadata": {},
   "outputs": [],
   "source": [
    "navegador.find_element(By.XPATH, '/html/body/div/form/input[2]').send_keys('Bullla@2022')"
   ]
  },
  {
   "cell_type": "code",
   "execution_count": 5,
   "id": "69b47fc4",
   "metadata": {},
   "outputs": [],
   "source": [
    "navegador.find_element(By.XPATH, '/html/body/div/form/button').click()"
   ]
  }
 ],
 "metadata": {
  "kernelspec": {
   "display_name": "Python 3 (ipykernel)",
   "language": "python",
   "name": "python3"
  },
  "language_info": {
   "codemirror_mode": {
    "name": "ipython",
    "version": 3
   },
   "file_extension": ".py",
   "mimetype": "text/x-python",
   "name": "python",
   "nbconvert_exporter": "python",
   "pygments_lexer": "ipython3",
   "version": "3.9.7"
  }
 },
 "nbformat": 4,
 "nbformat_minor": 5
}
